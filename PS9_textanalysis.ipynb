{
 "cells": [
  {
   "cell_type": "code",
   "execution_count": 1,
   "id": "3609741e",
   "metadata": {},
   "outputs": [
    {
     "name": "stdout",
     "output_type": "stream",
     "text": [
      "This is word wise tokenization-: \n",
      " ['India', 'is', 'a', 'land', 'of', 'vibrant', 'cultures', 'and', 'ancient', 'traditions', ',', 'known', 'for', 'its', 'diversity', 'in', 'languages', ',', 'festivals', ',', 'and', 'cuisines', '.', 'From', 'the', 'snow-capped', 'peaks', 'of', 'the', 'Himalayas', 'in', 'the', 'north', 'to', 'the', 'tropical', 'beaches', 'of', 'Kerala', 'in', 'the', 'south', ',', 'the', 'country', 'offers', 'a', 'wide', 'range', 'of', 'landscapes', '.', 'India', 'is', 'also', 'home', 'to', 'many', 'historical', 'landmarks', ',', 'such', 'as', 'the', 'Taj', 'Mahal', ',', 'Qutub', 'Minar', ',', 'and', 'the', 'forts', 'of', 'Rajasthan', ',', 'which', 'reflect', 'its', 'rich', 'architectural', 'heritage', '.'] \n",
      "\n",
      "-----------------------------------------------------------------------------'\n",
      "'\n",
      "This is sentence wise tokenization-: \n",
      " ['India is a land of vibrant cultures and ancient traditions, known for its diversity in languages, festivals, and cuisines.', 'From the snow-capped peaks of the Himalayas in the north to the tropical beaches of Kerala in the south, the country offers a wide range of landscapes.', 'India is also home to many historical landmarks, such as the Taj Mahal, Qutub Minar, and the forts of Rajasthan, which reflect its rich architectural heritage.']\n"
     ]
    }
   ],
   "source": [
    "import nltk\n",
    "from nltk.tokenize import word_tokenize,sent_tokenize\n",
    "block = \"India is a land of vibrant cultures and ancient traditions, known for its diversity in languages, festivals, and cuisines. From the snow-capped peaks of the Himalayas in the north to the tropical beaches of Kerala in the south, the country offers a wide range of landscapes. India is also home to many historical landmarks, such as the Taj Mahal, Qutub Minar, and the forts of Rajasthan, which reflect its rich architectural heritage.\"\n",
    "print(\"This is word wise tokenization-:\",'\\n', nltk.word_tokenize(block), '\\n')\n",
    "print(\"-----------------------------------------------------------------------------'\\n'\")\n",
    "print(\"This is sentence wise tokenization-:\",'\\n', nltk.sent_tokenize(block))\n"
   ]
  },
  {
   "cell_type": "code",
   "execution_count": 3,
   "id": "738e62cb",
   "metadata": {},
   "outputs": [
    {
     "name": "stdout",
     "output_type": "stream",
     "text": [
      "['a', 'about', 'above', 'after', 'again', 'against', 'ain', 'all', 'am', 'an', 'and', 'any', 'are', 'aren', \"aren't\", 'as', 'at', 'be', 'because', 'been', 'before', 'being', 'below', 'between', 'both', 'but', 'by', 'can', 'couldn', \"couldn't\", 'd', 'did', 'didn', \"didn't\", 'do', 'does', 'doesn', \"doesn't\", 'doing', 'don', \"don't\", 'down', 'during', 'each', 'few', 'for', 'from', 'further', 'had', 'hadn', \"hadn't\", 'has', 'hasn', \"hasn't\", 'have', 'haven', \"haven't\", 'having', 'he', \"he'd\", \"he'll\", 'her', 'here', 'hers', 'herself', \"he's\", 'him', 'himself', 'his', 'how', 'i', \"i'd\", 'if', \"i'll\", \"i'm\", 'in', 'into', 'is', 'isn', \"isn't\", 'it', \"it'd\", \"it'll\", \"it's\", 'its', 'itself', \"i've\", 'just', 'll', 'm', 'ma', 'me', 'mightn', \"mightn't\", 'more', 'most', 'mustn', \"mustn't\", 'my', 'myself', 'needn', \"needn't\", 'no', 'nor', 'not', 'now', 'o', 'of', 'off', 'on', 'once', 'only', 'or', 'other', 'our', 'ours', 'ourselves', 'out', 'over', 'own', 're', 's', 'same', 'shan', \"shan't\", 'she', \"she'd\", \"she'll\", \"she's\", 'should', 'shouldn', \"shouldn't\", \"should've\", 'so', 'some', 'such', 't', 'than', 'that', \"that'll\", 'the', 'their', 'theirs', 'them', 'themselves', 'then', 'there', 'these', 'they', \"they'd\", \"they'll\", \"they're\", \"they've\", 'this', 'those', 'through', 'to', 'too', 'under', 'until', 'up', 've', 'very', 'was', 'wasn', \"wasn't\", 'we', \"we'd\", \"we'll\", \"we're\", 'were', 'weren', \"weren't\", \"we've\", 'what', 'when', 'where', 'which', 'while', 'who', 'whom', 'why', 'will', 'with', 'won', \"won't\", 'wouldn', \"wouldn't\", 'y', 'you', \"you'd\", \"you'll\", 'your', \"you're\", 'yours', 'yourself', 'yourselves', \"you've\"]\n",
      "This is the unclean version-: \n",
      " ['India', 'is', 'a', 'land', 'of', 'vibrant', 'cultures', 'and', 'ancient', 'traditions', ',', 'known', 'for', 'its', 'diversity', 'in', 'languages', ',', 'festivals', ',', 'and', 'cuisines', '.', 'From', 'the', 'snow-capped', 'peaks', 'of', 'the', 'Himalayas', 'in', 'the', 'north', 'to', 'the', 'tropical', 'beaches', 'of', 'Kerala', 'in', 'the', 'south', ',', 'the', 'country', 'offers', 'a', 'wide', 'range', 'of', 'landscapes', '.', 'India', 'is', 'also', 'home', 'to', 'many', 'historical', 'landmarks', ',', 'such', 'as', 'the', 'Taj', 'Mahal', ',', 'Qutub', 'Minar', ',', 'and', 'the', 'forts', 'of', 'Rajasthan', ',', 'which', 'reflect', 'its', 'rich', 'architectural', 'heritage', '.'] \n",
      "\n",
      "----------------------------------------------------------------------'\n",
      "'\n",
      "This is the cleaned version-: \n",
      " ['India', 'land', 'vibrant', 'cultures', 'ancient', 'traditions', ',', 'known', 'diversity', 'languages', ',', 'festivals', ',', 'cuisines', '.', 'From', 'snow-capped', 'peaks', 'Himalayas', 'north', 'tropical', 'beaches', 'Kerala', 'south', ',', 'country', 'offers', 'wide', 'range', 'landscapes', '.', 'India', 'also', 'home', 'many', 'historical', 'landmarks', ',', 'Taj', 'Mahal', ',', 'Qutub', 'Minar', ',', 'forts', 'Rajasthan', ',', 'reflect', 'rich', 'architectural', 'heritage', '.']\n"
     ]
    },
    {
     "name": "stderr",
     "output_type": "stream",
     "text": [
      "[nltk_data] Downloading package stopwords to\n",
      "[nltk_data]     C:\\Users\\Jayditya\\AppData\\Roaming\\nltk_data...\n",
      "[nltk_data]   Package stopwords is already up-to-date!\n"
     ]
    }
   ],
   "source": [
    "from nltk.corpus import stopwords\n",
    "nltk.download('stopwords')\n",
    "stop_words = stopwords.words('english')\n",
    "print(stop_words)\n",
    "token = nltk.word_tokenize(block)\n",
    "cleaned_token = []\n",
    "for word in token:\n",
    "    if word not in stop_words:\n",
    "        cleaned_token.append(word)\n",
    "print(\"This is the unclean version-:\",'\\n', token, '\\n')\n",
    "print(\"----------------------------------------------------------------------'\\n'\")\n",
    "print(\"This is the cleaned version-:\",'\\n', cleaned_token)"
   ]
  },
  {
   "cell_type": "code",
   "execution_count": 5,
   "id": "fb267c78",
   "metadata": {},
   "outputs": [
    {
     "name": "stdout",
     "output_type": "stream",
     "text": [
      "['rain', 'rain', 'rain', 'rain']\n"
     ]
    }
   ],
   "source": [
    "from nltk.stem import PorterStemmer\n",
    "stemmer = nltk.PorterStemmer()\n",
    "words = ['rain', 'rained', 'raining', 'rains']\n",
    "stemmed = [stemmer.stem(word) for word in words]\n",
    "print(stemmed)\n"
   ]
  },
  {
   "cell_type": "code",
   "execution_count": 7,
   "id": "8ca788f5",
   "metadata": {
    "scrolled": true
   },
   "outputs": [
    {
     "name": "stderr",
     "output_type": "stream",
     "text": [
      "[nltk_data] Downloading package wordnet to\n",
      "[nltk_data]     C:\\Users\\Jayditya\\AppData\\Roaming\\nltk_data...\n",
      "[nltk_data]   Package wordnet is already up-to-date!\n",
      "[nltk_data] Downloading package omw-1.4 to\n",
      "[nltk_data]     C:\\Users\\Jayditya\\AppData\\Roaming\\nltk_data...\n"
     ]
    },
    {
     "name": "stdout",
     "output_type": "stream",
     "text": [
      "['India', 'land', 'vibrant', 'culture', 'ancient', 'tradition', ',', 'known', 'diversity', 'language', ',', 'festival', ',', 'cuisine', '.', 'From', 'snow-capped', 'peak', 'Himalayas', 'north', 'tropical', 'beach', 'Kerala', 'south', ',', 'country', 'offer', 'wide', 'range', 'landscape', '.', 'India', 'also', 'home', 'many', 'historical', 'landmark', ',', 'Taj', 'Mahal', ',', 'Qutub', 'Minar', ',', 'fort', 'Rajasthan', ',', 'reflect', 'rich', 'architectural', 'heritage', '.']\n"
     ]
    }
   ],
   "source": [
    "from nltk.stem import WordNetLemmatizer\n",
    "nltk.download('wordnet')#data dependencies\n",
    "nltk.download('omw-1.4')\n",
    "lemmatizer = nltk.WordNetLemmatizer()\n",
    "lemmatized = [lemmatizer.lemmatize(word) for word in cleaned_token]\n",
    "print(lemmatized)\n"
   ]
  },
  {
   "cell_type": "code",
   "execution_count": 19,
   "id": "4f1e2be5",
   "metadata": {},
   "outputs": [
    {
     "name": "stderr",
     "output_type": "stream",
     "text": [
      "[nltk_data] Downloading package averaged_perceptron_tagger_eng to\n",
      "[nltk_data]     C:\\Users\\Jayditya\\AppData\\Roaming\\nltk_data...\n"
     ]
    },
    {
     "name": "stdout",
     "output_type": "stream",
     "text": [
      "POS Tagged Tokens: [('India', 'NNP'), ('land', 'NN'), ('vibrant', 'NN'), ('cultures', 'VBZ'), ('ancient', 'JJ'), ('traditions', 'NNS'), (',', ','), ('known', 'VBN'), ('diversity', 'NN'), ('languages', 'NNS'), (',', ','), ('festivals', 'NNS'), (',', ','), ('cuisines', 'NNS'), ('.', '.'), ('From', 'IN'), ('snow-capped', 'JJ'), ('peaks', 'NNS'), ('Himalayas', 'NNP'), ('north', 'RB'), ('tropical', 'JJ'), ('beaches', 'NNS'), ('Kerala', 'NNP'), ('south', 'RB'), (',', ','), ('country', 'NN'), ('offers', 'NNS'), ('wide', 'JJ'), ('range', 'NN'), ('landscapes', 'NNS'), ('.', '.'), ('India', 'NNP'), ('also', 'RB'), ('home', 'VBD'), ('many', 'JJ'), ('historical', 'JJ'), ('landmarks', 'NNS'), (',', ','), ('Taj', 'NNP'), ('Mahal', 'NNP'), (',', ','), ('Qutub', 'NNP'), ('Minar', 'NNP'), (',', ','), ('forts', 'VBZ'), ('Rajasthan', 'NNP'), (',', ','), ('reflect', 'VBP'), ('rich', 'JJ'), ('architectural', 'JJ'), ('heritage', 'NN'), ('.', '.')]\n"
     ]
    },
    {
     "name": "stderr",
     "output_type": "stream",
     "text": [
      "[nltk_data]   Unzipping taggers\\averaged_perceptron_tagger_eng.zip.\n"
     ]
    }
   ],
   "source": [
    "import nltk\n",
    "from nltk import pos_tag\n",
    "\n",
    "\n",
    "nltk.download('averaged_perceptron_tagger_eng')  # NEW line to fix your error\n",
    "\n",
    "tagged = pos_tag(cleaned_token)\n",
    "print(\"POS Tagged Tokens:\", tagged)"
   ]
  },
  {
   "cell_type": "code",
   "execution_count": 21,
   "id": "93a1a506",
   "metadata": {},
   "outputs": [],
   "source": [
    "import pandas as pd\n",
    "import sklearn as sk\n",
    "import math\n"
   ]
  },
  {
   "cell_type": "code",
   "execution_count": 25,
   "id": "8d732f03",
   "metadata": {},
   "outputs": [
    {
     "name": "stdout",
     "output_type": "stream",
     "text": [
      "{'work', 'research,', 'each', 'technology,', 'promoting', 'unity', 'development.', 'rich', 'fields', 'cultural', 'various', 'like', 'to', 'religions,', 'society', 'other,', 'People', 'nation.', 'science,', 'innovation,', 'India', 'diverse', 'languages', 'diversity.', 'progress', 'growth,', 'its', 'uplift', 'come', 'from', 'education.', 'for', 'celebrate', 'strong', 'build', 'known', 'made', 'festivals,', 'a', 'The', 'inclusive', 'and', 'government', 'is', 'space', 'digital', 'traditions,', 'together', 'support', 'by', 'has', 'in', 'heritage,', 'regions,', 'remarkable', 'citizens'}\n"
     ]
    }
   ],
   "source": [
    "block_1 = \"India is known for its rich cultural heritage, diverse traditions, and unity in diversity. People from various regions, religions, and languages come together to celebrate festivals, support each other, and build a strong nation.\"\n",
    "block_2 = \"India has made remarkable progress in fields like science, technology, space research, and education. The government and citizens work together to uplift society by promoting innovation, digital growth, and inclusive development.\"\n",
    "\n",
    "# Split so each word has its own string\n",
    "first_block = block_1.split(\" \")\n",
    "second_block = block_2.split(\" \")\n",
    "\n",
    "# Join them to remove common duplicate words\n",
    "total = set(first_block).union(set(second_block))\n",
    "print(total)\n"
   ]
  },
  {
   "cell_type": "code",
   "execution_count": 30,
   "id": "490639fd",
   "metadata": {},
   "outputs": [
    {
     "data": {
      "text/html": [
       "<div>\n",
       "<style scoped>\n",
       "    .dataframe tbody tr th:only-of-type {\n",
       "        vertical-align: middle;\n",
       "    }\n",
       "\n",
       "    .dataframe tbody tr th {\n",
       "        vertical-align: top;\n",
       "    }\n",
       "\n",
       "    .dataframe thead th {\n",
       "        text-align: right;\n",
       "    }\n",
       "</style>\n",
       "<table border=\"1\" class=\"dataframe\">\n",
       "  <thead>\n",
       "    <tr style=\"text-align: right;\">\n",
       "      <th></th>\n",
       "      <th>work</th>\n",
       "      <th>research,</th>\n",
       "      <th>each</th>\n",
       "      <th>technology,</th>\n",
       "      <th>promoting</th>\n",
       "      <th>unity</th>\n",
       "      <th>development.</th>\n",
       "      <th>rich</th>\n",
       "      <th>fields</th>\n",
       "      <th>cultural</th>\n",
       "      <th>...</th>\n",
       "      <th>traditions,</th>\n",
       "      <th>together</th>\n",
       "      <th>support</th>\n",
       "      <th>by</th>\n",
       "      <th>has</th>\n",
       "      <th>in</th>\n",
       "      <th>heritage,</th>\n",
       "      <th>regions,</th>\n",
       "      <th>remarkable</th>\n",
       "      <th>citizens</th>\n",
       "    </tr>\n",
       "  </thead>\n",
       "  <tbody>\n",
       "    <tr>\n",
       "      <th>0</th>\n",
       "      <td>0</td>\n",
       "      <td>0</td>\n",
       "      <td>1</td>\n",
       "      <td>0</td>\n",
       "      <td>0</td>\n",
       "      <td>1</td>\n",
       "      <td>0</td>\n",
       "      <td>1</td>\n",
       "      <td>0</td>\n",
       "      <td>1</td>\n",
       "      <td>...</td>\n",
       "      <td>1</td>\n",
       "      <td>1</td>\n",
       "      <td>1</td>\n",
       "      <td>0</td>\n",
       "      <td>0</td>\n",
       "      <td>1</td>\n",
       "      <td>1</td>\n",
       "      <td>1</td>\n",
       "      <td>0</td>\n",
       "      <td>0</td>\n",
       "    </tr>\n",
       "    <tr>\n",
       "      <th>1</th>\n",
       "      <td>1</td>\n",
       "      <td>1</td>\n",
       "      <td>0</td>\n",
       "      <td>1</td>\n",
       "      <td>1</td>\n",
       "      <td>0</td>\n",
       "      <td>1</td>\n",
       "      <td>0</td>\n",
       "      <td>1</td>\n",
       "      <td>0</td>\n",
       "      <td>...</td>\n",
       "      <td>0</td>\n",
       "      <td>1</td>\n",
       "      <td>0</td>\n",
       "      <td>1</td>\n",
       "      <td>1</td>\n",
       "      <td>1</td>\n",
       "      <td>0</td>\n",
       "      <td>0</td>\n",
       "      <td>1</td>\n",
       "      <td>1</td>\n",
       "    </tr>\n",
       "  </tbody>\n",
       "</table>\n",
       "<p>2 rows × 56 columns</p>\n",
       "</div>"
      ],
      "text/plain": [
       "   work  research,  each  technology,  promoting  unity  development.  rich  \\\n",
       "0     0          0     1            0          0      1             0     1   \n",
       "1     1          1     0            1          1      0             1     0   \n",
       "\n",
       "   fields  cultural  ...  traditions,  together  support  by  has  in  \\\n",
       "0       0         1  ...            1         1        1   0    0   1   \n",
       "1       1         0  ...            0         1        0   1    1   1   \n",
       "\n",
       "   heritage,  regions,  remarkable  citizens  \n",
       "0          1         1           0         0  \n",
       "1          0         0           1         1  \n",
       "\n",
       "[2 rows x 56 columns]"
      ]
     },
     "execution_count": 30,
     "metadata": {},
     "output_type": "execute_result"
    }
   ],
   "source": [
    "wordDictA = dict.fromkeys(total, 0)\n",
    "wordDictB = dict.fromkeys(total, 0)\n",
    "for word in first_block:\n",
    "    wordDictA[word]+=1\n",
    "for word in second_block:\n",
    "    wordDictB[word]+=1\n",
    "pd.DataFrame([wordDictA, wordDictB])"
   ]
  },
  {
   "cell_type": "code",
   "execution_count": 32,
   "id": "aac37436",
   "metadata": {},
   "outputs": [
    {
     "name": "stdout",
     "output_type": "stream",
     "text": [
      "['work', 'research,', 'technology,', 'promoting', 'unity', 'development.', 'rich', 'fields', 'cultural', 'various', 'like', 'religions,', 'society', 'other,', 'People', 'nation.', 'science,', 'innovation,', 'India', 'diverse', 'languages', 'diversity.', 'progress', 'growth,', 'uplift', 'come', 'education.', 'celebrate', 'strong', 'build', 'known', 'made', 'festivals,', 'The', 'inclusive', 'government', 'space', 'digital', 'traditions,', 'together', 'support', 'heritage,', 'regions,', 'remarkable', 'citizens']\n"
     ]
    },
    {
     "name": "stderr",
     "output_type": "stream",
     "text": [
      "[nltk_data] Downloading package stopwords to\n",
      "[nltk_data]     C:\\Users\\Jayditya\\AppData\\Roaming\\nltk_data...\n",
      "[nltk_data]   Package stopwords is already up-to-date!\n"
     ]
    }
   ],
   "source": [
    "import nltk\n",
    "nltk.download('stopwords')\n",
    "from nltk.corpus import stopwords\n",
    "stop_words = set(stopwords.words('english'))\n",
    "filtered_sentence = [w for w in wordDictA if not w in stop_words]\n",
    "print(filtered_sentence)\n"
   ]
  },
  {
   "cell_type": "code",
   "execution_count": 34,
   "id": "36d1f6f1",
   "metadata": {},
   "outputs": [
    {
     "name": "stdout",
     "output_type": "stream",
     "text": [
      "       work  research,      each  technology,  promoting     unity  \\\n",
      "0  0.000000   0.000000  0.029412     0.000000   0.000000  0.029412   \n",
      "1  0.032258   0.032258  0.000000     0.032258   0.032258  0.000000   \n",
      "\n",
      "   development.      rich    fields  cultural  ...  traditions,  together  \\\n",
      "0      0.000000  0.029412  0.000000  0.029412  ...     0.029412  0.029412   \n",
      "1      0.032258  0.000000  0.032258  0.000000  ...     0.000000  0.032258   \n",
      "\n",
      "    support        by       has        in  heritage,  regions,  remarkable  \\\n",
      "0  0.029412  0.000000  0.000000  0.029412   0.029412  0.029412    0.000000   \n",
      "1  0.000000  0.032258  0.032258  0.032258   0.000000  0.000000    0.032258   \n",
      "\n",
      "   citizens  \n",
      "0  0.000000  \n",
      "1  0.032258  \n",
      "\n",
      "[2 rows x 56 columns]\n"
     ]
    }
   ],
   "source": [
    "def computeTF(wordDict, doc):\n",
    "    tfDict = {}\n",
    "    corpusCount = len(doc)\n",
    "    for word, count in wordDict.items():tfDict[word] = count/float(corpusCount)\n",
    "    return(tfDict)\n",
    "#running our sentences through the tf function:\n",
    "tfFirst = computeTF(wordDictA, first_block)\n",
    "tfSecond = computeTF(wordDictB, second_block)\n",
    "tf = pd.DataFrame([tfFirst, tfSecond])\n",
    "print(tf)"
   ]
  },
  {
   "cell_type": "code",
   "execution_count": 38,
   "id": "d1ff03e3",
   "metadata": {},
   "outputs": [
    {
     "name": "stdout",
     "output_type": "stream",
     "text": [
      "   work  research,  each  technology,  promoting  unity  development.  rich  \\\n",
      "0     0          0     1            0          0      1             0     1   \n",
      "1     1          1     0            1          1      0             1     0   \n",
      "\n",
      "   fields  cultural  ...  traditions,  together  support  by  has  in  \\\n",
      "0       0         1  ...            1         1        1   0    0   1   \n",
      "1       1         0  ...            0         1        0   1    1   1   \n",
      "\n",
      "   heritage,  regions,  remarkable  citizens  \n",
      "0          1         1           0         0  \n",
      "1          0         0           1         1  \n",
      "\n",
      "[2 rows x 56 columns]\n"
     ]
    }
   ],
   "source": [
    "def computeIDF(docList):\n",
    "    idfDict = {}\n",
    "    N = len(docList)\n",
    "    idfDict = dict.fromkeys(docList[0].keys(), 0)\n",
    "    for word, val in idfDict.items(): idfDict[word] = math.log10(N /(float(val) + 1))\n",
    "    return(idfDict)\n",
    "\n",
    "idfs = computeIDF([wordDictA, wordDictB])\n",
    "idfs1 = pd.DataFrame([wordDictA, wordDictB])\n",
    "print(idfs1)"
   ]
  },
  {
   "cell_type": "code",
   "execution_count": 40,
   "id": "09d0d7db",
   "metadata": {},
   "outputs": [
    {
     "name": "stdout",
     "output_type": "stream",
     "text": [
      "       work  research,      each  technology,  promoting     unity  \\\n",
      "0  0.000000   0.000000  0.008854     0.000000   0.000000  0.008854   \n",
      "1  0.009711   0.009711  0.000000     0.009711   0.009711  0.000000   \n",
      "\n",
      "   development.      rich    fields  cultural  ...  traditions,  together  \\\n",
      "0      0.000000  0.008854  0.000000  0.008854  ...     0.008854  0.008854   \n",
      "1      0.009711  0.000000  0.009711  0.000000  ...     0.000000  0.009711   \n",
      "\n",
      "    support        by       has        in  heritage,  regions,  remarkable  \\\n",
      "0  0.008854  0.000000  0.000000  0.008854   0.008854  0.008854    0.000000   \n",
      "1  0.000000  0.009711  0.009711  0.009711   0.000000  0.000000    0.009711   \n",
      "\n",
      "   citizens  \n",
      "0  0.000000  \n",
      "1  0.009711  \n",
      "\n",
      "[2 rows x 56 columns]\n"
     ]
    }
   ],
   "source": [
    "def computeTFIDF(tfBow, idfs):\n",
    "    tfidf = {}\n",
    "    for word, val in tfBow.items(): tfidf[word] = val*idfs[word]\n",
    "    return(tfidf)\n",
    "#running our two sentences through the IDF:\n",
    "idfFirst = computeTFIDF(tfFirst, idfs)\n",
    "idfSecond = computeTFIDF(tfSecond, idfs)\n",
    "#putting it in a dataframe\n",
    "idf= pd.DataFrame([idfFirst, idfSecond])\n",
    "print(idf)\n"
   ]
  },
  {
   "cell_type": "code",
   "execution_count": null,
   "id": "e1a96af4-0922-485e-9be0-036c6a681a3c",
   "metadata": {},
   "outputs": [],
   "source": []
  }
 ],
 "metadata": {
  "kernelspec": {
   "display_name": "Python 3 (ipykernel)",
   "language": "python",
   "name": "python3"
  },
  "language_info": {
   "codemirror_mode": {
    "name": "ipython",
    "version": 3
   },
   "file_extension": ".py",
   "mimetype": "text/x-python",
   "name": "python",
   "nbconvert_exporter": "python",
   "pygments_lexer": "ipython3",
   "version": "3.12.7"
  }
 },
 "nbformat": 4,
 "nbformat_minor": 5
}
