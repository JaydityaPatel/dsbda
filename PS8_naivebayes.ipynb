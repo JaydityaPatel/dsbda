{
 "cells": [
  {
   "cell_type": "code",
   "execution_count": 19,
   "id": "eee23f9a",
   "metadata": {
    "id": "eee23f9a"
   },
   "outputs": [],
   "source": [
    "import pandas as pd\n",
    "import numpy as np\n",
    "import seaborn as sns\n",
    "import matplotlib.pyplot as plt\n",
    "from sklearn.model_selection import train_test_split\n",
    "from sklearn.naive_bayes import GaussianNB\n",
    "from sklearn.preprocessing import StandardScaler\n",
    "from sklearn.metrics import confusion_matrix"
   ]
  },
  {
   "cell_type": "code",
   "execution_count": 21,
   "id": "d12dc46c",
   "metadata": {
    "colab": {
     "base_uri": "https://localhost:8080/",
     "height": 223
    },
    "id": "d12dc46c",
    "outputId": "91e31490-67a9-4cf8-acab-28b852d144bd",
    "scrolled": true
   },
   "outputs": [
    {
     "name": "stdout",
     "output_type": "stream",
     "text": [
      "   Id  SepalLengthCm  SepalWidthCm  PetalLengthCm  PetalWidthCm      Species\n",
      "0   1            5.1           3.5            1.4           0.2  Iris-setosa\n",
      "1   2            4.9           3.0            1.4           0.2  Iris-setosa\n",
      "2   3            4.7           3.2            1.3           0.2  Iris-setosa\n",
      "3   4            4.6           3.1            1.5           0.2  Iris-setosa\n",
      "4   5            5.0           3.6            1.4           0.2  Iris-setosa\n",
      "(150, 6)\n",
      "<class 'pandas.core.frame.DataFrame'>\n",
      "RangeIndex: 150 entries, 0 to 149\n",
      "Data columns (total 6 columns):\n",
      " #   Column         Non-Null Count  Dtype  \n",
      "---  ------         --------------  -----  \n",
      " 0   Id             150 non-null    int64  \n",
      " 1   SepalLengthCm  150 non-null    float64\n",
      " 2   SepalWidthCm   150 non-null    float64\n",
      " 3   PetalLengthCm  150 non-null    float64\n",
      " 4   PetalWidthCm   150 non-null    float64\n",
      " 5   Species        150 non-null    object \n",
      "dtypes: float64(4), int64(1), object(1)\n",
      "memory usage: 7.2+ KB\n",
      "None\n"
     ]
    }
   ],
   "source": [
    "df = pd.read_csv(r\"C:\\Users\\Jayditya\\Downloads\\DSBDA LAB\\Lab\\Experiments\\Datasets\\13Iris.csv\")\n",
    "print(df.head())\n",
    "print(df.shape)\n",
    "print(df.info())"
   ]
  },
  {
   "cell_type": "code",
   "execution_count": 23,
   "id": "c20fb668",
   "metadata": {
    "id": "c20fb668"
   },
   "outputs": [
    {
     "name": "stdout",
     "output_type": "stream",
     "text": [
      "Missing values:  Id               0\n",
      "SepalLengthCm    0\n",
      "SepalWidthCm     0\n",
      "PetalLengthCm    0\n",
      "PetalWidthCm     0\n",
      "Species          0\n",
      "dtype: int64\n",
      "Id               0\n",
      "SepalLengthCm    0\n",
      "SepalWidthCm     0\n",
      "PetalLengthCm    0\n",
      "PetalWidthCm     0\n",
      "Species          0\n",
      "dtype: int64\n"
     ]
    }
   ],
   "source": [
    "print(\"Missing values: \",df.isnull().sum())\n",
    "# Option 1: Drop rows with missing values\n",
    "# df = df.dropna()\n",
    "\n",
    "# Option 2: Impute missing values with mean (for numerical columns)\n",
    "df['SepalLengthCm'] = df['SepalLengthCm'].fillna(df['SepalLengthCm'].mean())\n",
    "df['SepalWidthCm'] = df['SepalWidthCm'].fillna(df['SepalWidthCm'].median())\n",
    "df['PetalLengthCm'] = df['PetalLengthCm'].fillna(df['PetalLengthCm'].mean())\n",
    "df['PetalWidthCm'] = df['PetalWidthCm'].fillna(df['PetalWidthCm'].median())\n",
    "\n",
    "# Option 3: Impute missing values in categorical columns with mode (for species)\n",
    "df['Species'] = df['Species'].fillna(df['Species'].mode()[0])\n",
    "\n",
    "# Verify if there are any remaining missing values\n",
    "print(df.isnull().sum())"
   ]
  },
  {
   "cell_type": "code",
   "execution_count": 25,
   "id": "094ac310",
   "metadata": {
    "id": "094ac310"
   },
   "outputs": [
    {
     "data": {
      "image/png": "[encoded data removed]",
      "text/plain": [
       "<Figure size 640x480 with 1 Axes>"
      ]
     },
     "metadata": {},
     "output_type": "display_data"
    }
   ],
   "source": [
    "df.drop('Id', axis=1, inplace=True)\n",
    "df.drop('Species', axis=1).boxplot()\n",
    "plt.title(\"Outlier Detection\")\n",
    "plt.show()"
   ]
  },
  {
   "cell_type": "code",
   "execution_count": 27,
   "id": "bb39325a",
   "metadata": {
    "id": "bb39325a"
   },
   "outputs": [],
   "source": [
    "X = df.drop('Species', axis=1)\n",
    "y = df['Species']\n",
    "\n",
    "scaler = StandardScaler()\n",
    "X_scaled = scaler.fit_transform(X)\n",
    "X_train, X_test, y_train, y_test = train_test_split(X_scaled, y, test_size=0.3, random_state=42)"
   ]
  },
  {
   "cell_type": "code",
   "execution_count": 29,
   "id": "29c0723a",
   "metadata": {
    "colab": {
     "base_uri": "https://localhost:8080/"
    },
    "id": "29c0723a",
    "outputId": "46d9c01e-b5ef-40e9-b9d9-9272935e5c0a"
   },
   "outputs": [],
   "source": [
    "nb = GaussianNB()\n",
    "nb.fit(X_train, y_train)\n",
    "y_pred = nb.predict(X_test)"
   ]
  },
  {
   "cell_type": "code",
   "execution_count": 31,
   "id": "30a5b7e3",
   "metadata": {
    "colab": {
     "base_uri": "https://localhost:8080/"
    },
    "id": "30a5b7e3",
    "outputId": "4e973770-925c-4307-b8cc-da93c4fc41da"
   },
   "outputs": [
    {
     "name": "stdout",
     "output_type": "stream",
     "text": [
      "Confusion Matrix:\n",
      " [[19  0  0]\n",
      " [ 0 12  1]\n",
      " [ 0  0 13]]\n"
     ]
    }
   ],
   "source": [
    "cm = confusion_matrix(y_test, y_pred)\n",
    "print(\"Confusion Matrix:\\n\", cm)"
   ]
  },
  {
   "cell_type": "code",
   "execution_count": 33,
   "id": "e4b69586",
   "metadata": {
    "colab": {
     "base_uri": "https://localhost:8080/"
    },
    "id": "e4b69586",
    "outputId": "f0c3a63c-6f2c-4694-ff22-00029b9b0ed8"
   },
   "outputs": [
    {
     "name": "stdout",
     "output_type": "stream",
     "text": [
      "                 Iris-setosa  Iris-versicolor  Iris-virginica\n",
      "Iris-setosa               19                0               0\n",
      "Iris-versicolor            0               12               1\n",
      "Iris-virginica             0                0              13\n"
     ]
    }
   ],
   "source": [
    "labels = df['Species'].unique()\n",
    "cm_df = pd.DataFrame(cm, index=labels, columns=labels)\n",
    "print(cm_df)"
   ]
  },
  {
   "cell_type": "code",
   "execution_count": 41,
   "id": "98bc4733",
   "metadata": {
    "colab": {
     "base_uri": "https://localhost:8080/",
     "height": 347
    },
    "id": "98bc4733",
    "outputId": "75517c24-7a3a-4b8b-b5fd-0dd56c2471e0"
   },
   "outputs": [
    {
     "name": "stdout",
     "output_type": "stream",
     "text": [
      "\n",
      "Class: Iris-setosa\n",
      "TP: 19, FP: 0, FN: 0, TN: 26\n",
      "Accuracy: 1.00, Error Rate: 0.00\n",
      "Precision: 1.00, Recall: 1.00\n",
      "\n",
      "Class: Iris-versicolor\n",
      "TP: 12, FP: 0, FN: 1, TN: 32\n",
      "Accuracy: 0.98, Error Rate: 0.02\n",
      "Precision: 1.00, Recall: 0.92\n",
      "\n",
      "Class: Iris-virginica\n",
      "TP: 13, FP: 1, FN: 0, TN: 31\n",
      "Accuracy: 0.98, Error Rate: 0.02\n",
      "Precision: 0.93, Recall: 1.00\n"
     ]
    }
   ],
   "source": [
    "# Compute TP, FP, TN, FN, Accuracy, Error Rate, Precision, Recall\n",
    "total = np.sum(cm)\n",
    "for i, label in enumerate(labels):\n",
    "    TP = cm[i, i]\n",
    "    FP = cm[:, i].sum() - TP\n",
    "    FN = cm[i, :].sum() - TP\n",
    "    TN = total - (TP + FP + FN)\n",
    "\n",
    "    accuracy = (TP + TN) / total\n",
    "    error_rate = 1 - accuracy\n",
    "    precision = TP / (TP + FP) if (TP + FP) > 0 else 0\n",
    "    recall = TP / (TP + FN) if (TP + FN) > 0 else 0\n",
    "\n",
    "    print(f\"\\nClass: {label}\")\n",
    "    print(f\"TP: {TP}, FP: {FP}, FN: {FN}, TN: {TN}\")\n",
    "    print(f\"Accuracy: {accuracy:.2f}, Error Rate: {error_rate:.2f}\")\n",
    "    print(f\"Precision: {precision:.2f}, Recall: {recall:.2f}\")\n",
    "    "
   ]
  },
  {
   "cell_type": "code",
   "execution_count": 37,
   "id": "c2f23db0",
   "metadata": {
    "colab": {
     "base_uri": "https://localhost:8080/"
    },
    "id": "c2f23db0",
    "outputId": "b8989db5-fcef-4230-926b-c2fceca6a8d6"
   },
   "outputs": [
    {
     "data": {
      "image/png": "[encoded data removed]",
      "text/plain": [
       "<Figure size 600x400 with 2 Axes>"
      ]
     },
     "metadata": {},
     "output_type": "display_data"
    }
   ],
   "source": [
    "# Plot Confusion Matrix as Heatmap\n",
    "plt.figure(figsize=(6, 4))\n",
    "sns.heatmap(cm, annot=True, fmt='d', cmap='Blues', xticklabels=nb.classes_, yticklabels=nb.classes_)\n",
    "plt.title(\"Confusion Matrix Heatmap\")\n",
    "plt.xlabel(\"Predicted Label\")\n",
    "plt.ylabel(\"True Label\")\n",
    "plt.tight_layout()\n",
    "plt.show()"
   ]
  },
  {
   "cell_type": "code",
   "execution_count": null,
   "id": "61992d5d",
   "metadata": {},
   "outputs": [],
   "source": []
  }
 ],
 "metadata": {
  "colab": {
   "name": "Experiment_No-6_new.ipynb",
   "provenance": []
  },
  "kernelspec": {
   "display_name": "Python 3 (ipykernel)",
   "language": "python",
   "name": "python3"
  },
  "language_info": {
   "codemirror_mode": {
    "name": "ipython",
    "version": 3
   },
   "file_extension": ".py",
   "mimetype": "text/x-python",
   "name": "python",
   "nbconvert_exporter": "python",
   "pygments_lexer": "ipython3",
   "version": "3.12.7"
  }
 },
 "nbformat": 4,
 "nbformat_minor": 5
}
