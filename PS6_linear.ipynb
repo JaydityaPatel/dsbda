{
 "cells": [
  {
   "cell_type": "code",
   "execution_count": 42,
   "id": "b11926e0",
   "metadata": {},
   "outputs": [],
   "source": [
    "import pandas as pd\n",
    "import numpy as np\n",
    "import seaborn as sns\n",
    "import matplotlib.pyplot as plt\n",
    "from sklearn.model_selection import train_test_split\n",
    "from sklearn.linear_model import LinearRegression\n",
    "from sklearn.metrics import mean_squared_error, r2_score\n",
    "from sklearn.preprocessing import StandardScaler, MinMaxScaler"
   ]
  },
  {
   "cell_type": "code",
   "execution_count": 44,
   "id": "83a44ad0",
   "metadata": {},
   "outputs": [
    {
     "name": "stdout",
     "output_type": "stream",
     "text": [
      "      CRIM    ZN  INDUS  CHAS    NOX     RM   AGE     DIS  RAD  TAX  PTRATIO  \\\n",
      "0  0.00632  18.0   2.31   0.0  0.538  6.575  65.2  4.0900    1  296     15.3   \n",
      "1  0.02731   0.0   7.07   0.0  0.469  6.421  78.9  4.9671    2  242     17.8   \n",
      "2  0.02729   0.0   7.07   0.0  0.469  7.185  61.1  4.9671    2  242     17.8   \n",
      "3  0.03237   0.0   2.18   0.0  0.458  6.998  45.8  6.0622    3  222     18.7   \n",
      "4  0.06905   0.0   2.18   0.0  0.458  7.147  54.2  6.0622    3  222     18.7   \n",
      "\n",
      "        B  LSTAT  MEDV  \n",
      "0  396.90   4.98  24.0  \n",
      "1  396.90   9.14  21.6  \n",
      "2  392.83   4.03  34.7  \n",
      "3  394.63   2.94  33.4  \n",
      "4  396.90    NaN  36.2  \n",
      "(506, 14)\n"
     ]
    }
   ],
   "source": [
    "df = pd.read_csv(r\"C:\\Users\\Jayditya\\Downloads\\DSBDA LAB\\Lab\\Experiments\\Datasets\\456housing_data.csv\") \n",
    "print(df.head())\n",
    "print(df.shape)"
   ]
  },
  {
   "cell_type": "code",
   "execution_count": 56,
   "id": "5d1d7d8e",
   "metadata": {},
   "outputs": [
    {
     "name": "stdout",
     "output_type": "stream",
     "text": [
      " Missing Values: CRIM        0\n",
      "ZN          0\n",
      "INDUS       0\n",
      "CHAS        0\n",
      "NOX         0\n",
      "RM          0\n",
      "AGE         0\n",
      "DIS         0\n",
      "RAD         0\n",
      "TAX         0\n",
      "PTRATIO     0\n",
      "B           0\n",
      "LSTAT      20\n",
      "MEDV        0\n",
      "dtype: int64\n",
      "\n",
      "Missing values after imputation:\n",
      " CRIM       0\n",
      "ZN         0\n",
      "INDUS      0\n",
      "CHAS       0\n",
      "NOX        0\n",
      "RM         0\n",
      "AGE        0\n",
      "DIS        0\n",
      "RAD        0\n",
      "TAX        0\n",
      "PTRATIO    0\n",
      "B          0\n",
      "LSTAT      0\n",
      "MEDV       0\n",
      "dtype: int64\n"
     ]
    }
   ],
   "source": [
    "print(\" Missing Values:\",df.isnull().sum())\n",
    "df['CRIM'] = df['CRIM'].fillna(df['CRIM'].mean())\n",
    "df['ZN'] = df['ZN'].fillna(df['ZN'].mean())\n",
    "df['INDUS'] = df['INDUS'].fillna(df['INDUS'].mean())\n",
    "df['CHAS'] = df['CHAS'].fillna(df['CHAS'].mean())\n",
    "df['AGE'] = df['AGE'].fillna(df['AGE'].mean())\n",
    "df['LSTAT'] = df['LSTAT'].fillna(df['LSTAT'].mean())\n",
    "print(\"\\nMissing values after imputation:\\n\", df.isnull().sum())\n"
   ]
  },
  {
   "cell_type": "code",
   "execution_count": 58,
   "id": "fc1fbfff-bfc3-4ac7-9380-35432f197280",
   "metadata": {},
   "outputs": [
    {
     "name": "stdout",
     "output_type": "stream",
     "text": [
      "\n",
      " Descriptive statistics:\n",
      "              CRIM          ZN       INDUS        CHAS         NOX          RM  \\\n",
      "count  506.000000  506.000000  506.000000  506.000000  506.000000  506.000000   \n",
      "mean     3.611874   11.211934   11.083992    0.069959    0.554695    6.284634   \n",
      "std      8.545770   22.921051    6.699165    0.250233    0.115878    0.702617   \n",
      "min      0.006320    0.000000    0.460000    0.000000    0.385000    3.561000   \n",
      "25%      0.083235    0.000000    5.190000    0.000000    0.449000    5.885500   \n",
      "50%      0.290250    0.000000    9.900000    0.000000    0.538000    6.208500   \n",
      "75%      3.611874   11.211934   18.100000    0.000000    0.624000    6.623500   \n",
      "max     88.976200  100.000000   27.740000    1.000000    0.871000    8.780000   \n",
      "\n",
      "              AGE         DIS         RAD         TAX     PTRATIO           B  \\\n",
      "count  506.000000  506.000000  506.000000  506.000000  506.000000  506.000000   \n",
      "mean    68.518519    3.795043    9.549407  408.237154   18.455534  356.674032   \n",
      "std     27.439466    2.105710    8.707259  168.537116    2.164946   91.294864   \n",
      "min      2.900000    1.129600    1.000000  187.000000   12.600000    0.320000   \n",
      "25%     45.925000    2.100175    4.000000  279.000000   17.400000  375.377500   \n",
      "50%     74.450000    3.207450    5.000000  330.000000   19.050000  391.440000   \n",
      "75%     93.575000    5.188425   24.000000  666.000000   20.200000  396.225000   \n",
      "max    100.000000   12.126500   24.000000  711.000000   22.000000  396.900000   \n",
      "\n",
      "            LSTAT        MEDV  \n",
      "count  506.000000  506.000000  \n",
      "mean    12.715432   22.532806  \n",
      "std      7.012739    9.197104  \n",
      "min      1.730000    5.000000  \n",
      "25%      7.230000   17.025000  \n",
      "50%     11.995000   21.200000  \n",
      "75%     16.570000   25.000000  \n",
      "max     37.970000   50.000000  \n"
     ]
    }
   ],
   "source": [
    "print(\"\\n Descriptive statistics:\\n\", df.describe())"
   ]
  },
  {
   "cell_type": "code",
   "execution_count": 62,
   "id": "0aba7225",
   "metadata": {},
   "outputs": [
    {
     "name": "stdout",
     "output_type": "stream",
     "text": [
      "(110, 14)\n"
     ]
    }
   ],
   "source": [
    "def remove_outliers(df, col):\n",
    "    Q1 = df[col].quantile(0.25)\n",
    "    Q3 = df[col].quantile(0.75)\n",
    "    IQR = Q3 - Q1\n",
    "    lower = Q1 - 1.5 * IQR\n",
    "    upper = Q3 + 1.5 * IQR\n",
    "    return df[(df[col] >= lower) & (df[col] <= upper)]\n",
    "# Removing outliers \n",
    "for col in df.select_dtypes(include=[np.number]).columns:\n",
    "    if col != 'CHAS' and col != 'MEDV':\n",
    "        df = remove_outliers(df, col)\n",
    "print(df.shape)"
   ]
  },
  {
   "cell_type": "code",
   "execution_count": 64,
   "id": "f7cc070b",
   "metadata": {},
   "outputs": [
    {
     "name": "stdout",
     "output_type": "stream",
     "text": [
      "Sample Scaled Data (StandardScaler):\n",
      "        CRIM        ZN     INDUS  CHAS       NOX        RM       AGE  \\\n",
      "5  -1.125733 -0.446633 -1.935118   0.0 -0.700778  0.863253  0.113168   \n",
      "35 -0.790977 -0.446633 -0.710527   0.0  0.130694 -0.684042  0.520390   \n",
      "37 -0.635206 -0.446633 -0.710527   0.0  0.130694 -0.942443 -0.624118   \n",
      "38  0.290543 -0.446633 -0.710527   0.0  0.130694 -0.581304 -1.108498   \n",
      "41 -0.173843 -0.446633 -0.402760   0.0 -0.903576  1.921764 -2.278726   \n",
      "\n",
      "         DIS       RAD       TAX   PTRATIO         B     LSTAT      MEDV  \n",
      "5   1.220853 -1.588773 -1.268203  0.033488  0.098740 -1.509728  1.964480  \n",
      "35 -0.630774  0.582221 -0.409031  0.425371  0.826852  0.655628 -1.028749  \n",
      "37 -0.237477  0.582221 -0.409031  0.425371  0.826852 -0.482650 -0.387343  \n",
      "38 -0.297030  0.582221 -0.409031  0.425371 -0.081978 -0.090283  0.742754  \n",
      "41  0.986958 -1.588773 -1.102398 -0.593524 -2.182502 -1.616475  1.323074  \n"
     ]
    }
   ],
   "source": [
    "scaler = StandardScaler()\n",
    "df_scaled = df.copy()\n",
    "numeric_cols = df.select_dtypes(include=[np.number]).columns\n",
    "df_scaled[numeric_cols] = scaler.fit_transform(df[numeric_cols])\n",
    "print(\"Sample Scaled Data (StandardScaler):\")\n",
    "print(df_scaled.head())"
   ]
  },
  {
   "cell_type": "code",
   "execution_count": 66,
   "id": "a39d3433",
   "metadata": {},
   "outputs": [
    {
     "name": "stdout",
     "output_type": "stream",
     "text": [
      "Sample Normalized Data (MinMaxScaler):\n",
      "        CRIM   ZN     INDUS  CHAS       NOX        RM       AGE       DIS  \\\n",
      "5   0.021839  0.0  0.058565   0.0  0.227907  0.560912  0.592357  0.555832   \n",
      "35  0.094325  0.0  0.335286   0.0  0.418605  0.237134  0.693206  0.176138   \n",
      "37  0.128055  0.0  0.335286   0.0  0.418605  0.183062  0.409766  0.256788   \n",
      "38  0.328511  0.0  0.335286   0.0  0.418605  0.258632  0.289809  0.244576   \n",
      "41  0.227955  0.0  0.404832   0.0  0.181395  0.782410  0.000000  0.507870   \n",
      "\n",
      "         RAD       TAX   PTRATIO         B     LSTAT      MEDV  \n",
      "5   0.000000  0.118852  0.519231  0.807746  0.046985  0.744048  \n",
      "35  0.666667  0.352459  0.615385  1.000000  0.573312  0.160714  \n",
      "37  0.666667  0.352459  0.615385  1.000000  0.296634  0.285714  \n",
      "38  0.666667  0.352459  0.615385  0.760028  0.392006  0.505952  \n",
      "41  0.000000  0.163934  0.365385  0.205394  0.021038  0.619048  \n"
     ]
    }
   ],
   "source": [
    "normalizer = MinMaxScaler()\n",
    "df_normalized = df.copy()\n",
    "df_normalized[numeric_cols] = normalizer.fit_transform(df[numeric_cols])\n",
    "print(\"Sample Normalized Data (MinMaxScaler):\")\n",
    "print(df_normalized.head())"
   ]
  },
  {
   "cell_type": "code",
   "execution_count": 70,
   "id": "b5bbc6fe",
   "metadata": {},
   "outputs": [],
   "source": [
    "X = df.drop('MEDV', axis=1)  # medv=Median Home Price\n",
    "y = df['MEDV']\n",
    "X_train, X_test, y_train, y_test = train_test_split(X, y, test_size=0.2, random_state=42)"
   ]
  },
  {
   "cell_type": "code",
   "execution_count": 72,
   "id": "b8dbb17a",
   "metadata": {},
   "outputs": [],
   "source": [
    "model = LinearRegression()\n",
    "# Training\n",
    "model.fit(X_train, y_train)\n",
    "y_pred = model.predict(X_test)"
   ]
  },
  {
   "cell_type": "code",
   "execution_count": 74,
   "id": "2ab58a00",
   "metadata": {},
   "outputs": [
    {
     "name": "stdout",
     "output_type": "stream",
     "text": [
      "\n",
      "Mean Squared Error (MSE): 3.77\n",
      "R-squared (R²): 0.75\n"
     ]
    }
   ],
   "source": [
    "mse = mean_squared_error(y_test, y_pred)\n",
    "print(f\"\\nMean Squared Error (MSE): {mse:.2f}\")\n",
    "r2 = r2_score(y_test, y_pred)\n",
    "print(f\"R-squared (R²): {r2:.2f}\")"
   ]
  },
  {
   "cell_type": "code",
   "execution_count": 76,
   "id": "33a3f893",
   "metadata": {},
   "outputs": [
    {
     "data": {
      "image/png": "[encoded data removed]",
      "text/plain": [
       "<Figure size 800x600 with 1 Axes>"
      ]
     },
     "metadata": {},
     "output_type": "display_data"
    }
   ],
   "source": [
    "import matplotlib.pyplot as plt\n",
    "\n",
    "plt.figure(figsize=(8, 6))\n",
    "plt.scatter(y_test, y_pred)\n",
    "plt.plot([y_test.min(), y_test.max()], [y_test.min(), y_test.max()], color='red', linewidth=2)\n",
    "plt.title(\"Actual vs Predicted Home Prices\")\n",
    "plt.xlabel(\"Actual Prices\")\n",
    "plt.ylabel(\"Predicted Prices\")\n",
    "plt.show()"
   ]
  },
  {
   "cell_type": "code",
   "execution_count": null,
   "id": "37363ec0",
   "metadata": {},
   "outputs": [],
   "source": []
  }
 ],
 "metadata": {
  "kernelspec": {
   "display_name": "Python 3 (ipykernel)",
   "language": "python",
   "name": "python3"
  },
  "language_info": {
   "codemirror_mode": {
    "name": "ipython",
    "version": 3
   },
   "file_extension": ".py",
   "mimetype": "text/x-python",
   "name": "python",
   "nbconvert_exporter": "python",
   "pygments_lexer": "ipython3",
   "version": "3.12.7"
  }
 },
 "nbformat": 4,
 "nbformat_minor": 5
}
